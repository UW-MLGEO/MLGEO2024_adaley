{
 "cells": [
  {
   "cell_type": "code",
   "execution_count": 1,
   "metadata": {},
   "outputs": [],
   "source": [
    "import pandas as pd\n",
    "import numpy as np\n",
    "import matplotlib.pyplot as plt"
   ]
  },
  {
   "cell_type": "code",
   "execution_count": null,
   "metadata": {},
   "outputs": [],
   "source": [
    "PATH = '/home/disk/orca/adaley17/Research/Stress_Separation/'\n",
    "with open(PATH + 'lsdiaga_1982_2022_sat_ts_5day.txt', 'r') as file:\n",
    "    # content = file.read()\n",
    "    # print(content)\n",
    "    # print(file.readline())\n",
    "    file.seek(0)\n",
    "    for i, line in enumerate(file):\n",
    "        if 'LAST' in line:\n",
    "            print(f\"Line {i}: {line}\")\n",
    "    # lines_with_AL = [line for line in file if 'LAST' in line]\n",
    "\n"
   ]
  },
  {
   "cell_type": "markdown",
   "metadata": {},
   "source": [
    "## Get the Column Names"
   ]
  },
  {
   "cell_type": "code",
   "execution_count": 55,
   "metadata": {},
   "outputs": [],
   "source": [
    "num_entries = 139\n",
    "column_names = [np.nan] * num_entries\n",
    "\n",
    "with open(PATH + 'lsdiaga_1982_2022_sat_ts_5day.txt', 'r') as file:\n",
    "    # Move the file pointer to the beginning of the file\n",
    "    file.seek(0)\n",
    "\n",
    "    # Read lines 0 to 138\n",
    "    lines = [file.readline().split() for _ in range(139)]\n",
    "\n",
    "    for i in range(len(lines)):\n",
    "        # print(lines[i][-1])\n",
    "        column_names[i] = lines[i][-1]"
   ]
  },
  {
   "cell_type": "code",
   "execution_count": 2,
   "metadata": {},
   "outputs": [],
   "source": [
    "PATH = '/home/disk/orca/adaley17/Research/Stress_Separation/'\n",
    "with open(PATH + 'lsdiaga_1982_2022_sat_ts_5day.txt', 'r') as file:\n",
    "    # Move the file pointer to the beginning of the file\n",
    "    file.seek(0)\n",
    "\n",
    "    # Read lines 0 to 138\n",
    "    lines = [file.readline().split() for _ in range(139)]\n",
    "    # lines.split()\n",
    "\n",
    "    # # Combine the lines into one line\n",
    "    # combined_line = ''.join(lines)\n",
    "\n",
    "    # # Print the combined line\n",
    "    # print(combined_line)"
   ]
  },
  {
   "cell_type": "code",
   "execution_count": 40,
   "metadata": {},
   "outputs": [
    {
     "name": "stdout",
     "output_type": "stream",
     "text": [
      "0\n",
      "1\n",
      "2\n",
      "3\n",
      "4\n",
      "5\n",
      "6\n",
      "7\n",
      "8\n",
      "9\n",
      "10\n",
      "11\n",
      "12\n",
      "13\n",
      "14\n",
      "15\n",
      "16\n",
      "17\n",
      "18\n",
      "19\n",
      "20\n"
     ]
    }
   ],
   "source": [
    "times = np.full((len(lines[1])-1, 1), 'np.nan')\n",
    "vmax = np.full((len(lines[2])-1, 1), 'np.nan')\n",
    "mslp = np.full((len(lines[3])-1, 1), 'np.nan')\n",
    "nature = np.full((len(lines[4])-1, 1), 'np.nan')\n",
    "delta_intensity = np.full((len(lines[5])-1, 1), 'np.nan')\n",
    "lat = np.full((len(lines[8])-1, 1), 'np.nan')\n",
    "lon = np.full((len(lines[9])-1, 1), 'np.nan')\n",
    "daily_sst_avg = np.full((len(lines[19])-1, 1), 'np.nan')\n",
    "mid_level_rh = np.full((len(lines[29])-1, 1), np.nan)\n",
    "\n",
    "shear = np.full((len(lines[64])-1, 1), np.nan)\n",
    "\"\"\" Generalized 850-200 hPa shear magnitude (kt *10) vs time (takes into account all levels from 1000 to 100 hPa) \"\"\" \n",
    "vert_vel = np.full((len(lines[67])-1, 1), np.nan)\n",
    "\n",
    "\n",
    "# Times\n",
    "for i in range(len(lines[1])-1):\n",
    "    times[i,:] = lines[1][i]\n",
    "\n",
    "# Vmax\n",
    "for i in range(len(lines[2])-1):\n",
    "    vmax[i,:] = lines[2][i]\n",
    "\n",
    "# MSLP\n",
    "for i in range(len(lines[3])-1):\n",
    "    mslp[i,:] = lines[3][i]\n",
    "\n",
    "# Nature\n",
    "for i in range(len(lines[4])-1):\n",
    "    nature[i,:] = lines[4][i]\n",
    "\n",
    "# Delta Intensity\n",
    "for i in range(len(lines[5])-1):\n",
    "    delta_intensity[i,:] = lines[5][i]\n",
    "\n",
    "# Latitude\n",
    "for i in range(len(lines[8])-1):\n",
    "    lat[i,:] = lines[8][i]\n",
    "\n",
    "# Longitude\n",
    "for i in range(len(lines[9])-1):\n",
    "    lon[i,:] = lines[9][i]\n",
    "\n",
    "# Daily SST Avg\n",
    "for i in range(len(lines[19])-1):\n",
    "    # print(i)\n",
    "    daily_sst_avg[i,:] = lines[19][i]\n",
    "\n",
    "# Mid Level RH\n",
    "for i in range(len(lines[29])-1):\n",
    "    mid_level_rh[i,:] = float(lines[29][i])\n",
    "\n",
    "# Shear\n",
    "for i in range(len(lines[64])-1):\n",
    "    shear[i,:] = float(lines[64][i])/10\n",
    "\n",
    "# Vert Vel\n",
    "for i in range(len(lines[67])-1):\n",
    "    print(i)\n",
    "    vert_vel[i,:] = float(lines[67][i])/100\n",
    "\n",
    "\n",
    "    "
   ]
  },
  {
   "cell_type": "code",
   "execution_count": 37,
   "metadata": {},
   "outputs": [
    {
     "data": {
      "text/plain": [
       "array([['9999'],\n",
       "       ['9999'],\n",
       "       ['271'],\n",
       "       ['278'],\n",
       "       ['279'],\n",
       "       ['272'],\n",
       "       ['267'],\n",
       "       ['268'],\n",
       "       ['270'],\n",
       "       ['272'],\n",
       "       ['270'],\n",
       "       ['272'],\n",
       "       ['272'],\n",
       "       ['272'],\n",
       "       ['271'],\n",
       "       ['271'],\n",
       "       ['272'],\n",
       "       ['272'],\n",
       "       ['274'],\n",
       "       ['9999'],\n",
       "       ['9999'],\n",
       "       ['9999'],\n",
       "       ['9999']], dtype='<U6')"
      ]
     },
     "execution_count": 37,
     "metadata": {},
     "output_type": "execute_result"
    }
   ],
   "source": [
    "daily_sst_avg[0:23]"
   ]
  },
  {
   "cell_type": "code",
   "execution_count": 95,
   "metadata": {},
   "outputs": [
    {
     "data": {
      "text/plain": [
       "['296',\n",
       " '302',\n",
       " '298',\n",
       " '362',\n",
       " '340',\n",
       " '328',\n",
       " '396',\n",
       " '442',\n",
       " '406',\n",
       " '333',\n",
       " '334',\n",
       " '390',\n",
       " '379',\n",
       " '352',\n",
       " '297',\n",
       " '348',\n",
       " '378',\n",
       " '9999',\n",
       " '9999',\n",
       " '9999',\n",
       " '9999',\n",
       " 'SHRG']"
      ]
     },
     "execution_count": 95,
     "metadata": {},
     "output_type": "execute_result"
    }
   ],
   "source": [
    "lines[64]"
   ]
  },
  {
   "cell_type": "code",
   "execution_count": 32,
   "metadata": {},
   "outputs": [
    {
     "ename": "ValueError",
     "evalue": "' ALBE 820602 12   20   21.7   87.1 1005 AL0119' is not in list",
     "output_type": "error",
     "traceback": [
      "\u001b[0;31m---------------------------------------------------------------------------\u001b[0m",
      "\u001b[0;31mValueError\u001b[0m                                Traceback (most recent call last)",
      "Cell \u001b[0;32mIn[32], line 8\u001b[0m\n\u001b[1;32m      5\u001b[0m combined_line_list \u001b[38;5;241m=\u001b[39m combined_line\u001b[38;5;241m.\u001b[39msplit()\n\u001b[1;32m      7\u001b[0m \u001b[38;5;66;03m# Find the index of the substring in the list\u001b[39;00m\n\u001b[0;32m----> 8\u001b[0m start_index \u001b[38;5;241m=\u001b[39m \u001b[43mcombined_line_list\u001b[49m\u001b[38;5;241;43m.\u001b[39;49m\u001b[43mindex\u001b[49m\u001b[43m(\u001b[49m\u001b[43msubstring\u001b[49m\u001b[43m)\u001b[49m\n\u001b[1;32m     10\u001b[0m \u001b[38;5;66;03m# Print every 4th string after the substring\u001b[39;00m\n\u001b[1;32m     11\u001b[0m \u001b[38;5;28;01mfor\u001b[39;00m i \u001b[38;5;129;01min\u001b[39;00m \u001b[38;5;28mrange\u001b[39m(start_index, \u001b[38;5;28mlen\u001b[39m(combined_line_list), \u001b[38;5;241m4\u001b[39m):\n",
      "\u001b[0;31mValueError\u001b[0m: ' ALBE 820602 12   20   21.7   87.1 1005 AL0119' is not in list"
     ]
    }
   ],
   "source": [
    "# Extract the substring\n",
    "substring = combined_line[0:46]\n",
    "\n",
    "# Split the combined_line into a list of strings\n",
    "combined_line_list = combined_line.split()\n",
    "\n",
    "# Find the index of the substring in the list\n",
    "start_index = combined_line_list.index(substring)\n",
    "\n",
    "# Print every 4th string after the substring\n",
    "for i in range(start_index, len(combined_line_list), 4):\n",
    "    print(combined_line_list[i])"
   ]
  },
  {
   "cell_type": "code",
   "execution_count": 34,
   "metadata": {},
   "outputs": [
    {
     "data": {
      "text/plain": [
       "'LAST'"
      ]
     },
     "execution_count": 34,
     "metadata": {},
     "output_type": "execute_result"
    }
   ],
   "source": [
    "combined_line_list[-1]"
   ]
  },
  {
   "cell_type": "code",
   "execution_count": null,
   "metadata": {},
   "outputs": [],
   "source": []
  }
 ],
 "metadata": {
  "kernelspec": {
   "display_name": "waves",
   "language": "python",
   "name": "python3"
  },
  "language_info": {
   "codemirror_mode": {
    "name": "ipython",
    "version": 3
   },
   "file_extension": ".py",
   "mimetype": "text/x-python",
   "name": "python",
   "nbconvert_exporter": "python",
   "pygments_lexer": "ipython3",
   "version": "3.8.13"
  }
 },
 "nbformat": 4,
 "nbformat_minor": 2
}
